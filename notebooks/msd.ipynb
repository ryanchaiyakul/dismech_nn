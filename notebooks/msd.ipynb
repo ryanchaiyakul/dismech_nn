{
 "cells": [
  {
   "cell_type": "markdown",
   "metadata": {},
   "source": [
    "## MSD Example\n",
    "\n",
    "Run the following code segments to train and validate a NeuralODE for a Mass Spring Damper system."
   ]
  },
  {
   "cell_type": "code",
   "execution_count": 1,
   "metadata": {},
   "outputs": [
    {
     "name": "stderr",
     "output_type": "stream",
     "text": [
      "C:\\Users\\12345\\Documents\\Dev\\dismech_nn\\dismech_nn\\train.py:1: TqdmExperimentalWarning: Using `tqdm.autonotebook.tqdm` in notebook mode. Use `tqdm.tqdm` instead to force console mode (e.g. in jupyter console)\n",
      "  from tqdm.autonotebook import tqdm\n"
     ]
    },
    {
     "data": {
      "application/vnd.jupyter.widget-view+json": {
       "model_id": "43209ee90b224544bf6392f65ecbdf53",
       "version_major": 2,
       "version_minor": 0
      },
      "text/plain": [
       "Epochs:   0%|          | 0/20 [00:00<?, ?it/s]"
      ]
     },
     "metadata": {},
     "output_type": "display_data"
    },
    {
     "data": {
      "application/vnd.jupyter.widget-view+json": {
       "model_id": "eb9da6933a4d4feaa309d726136ccf14",
       "version_major": 2,
       "version_minor": 0
      },
      "text/plain": [
       "Training Batch:   0%|          | 0/46 [00:00<?, ?it/s]"
      ]
     },
     "metadata": {},
     "output_type": "display_data"
    },
    {
     "data": {
      "application/vnd.jupyter.widget-view+json": {
       "model_id": "c3ca499c099f4a27895d91a95541b13c",
       "version_major": 2,
       "version_minor": 0
      },
      "text/plain": [
       "Validation Batch:   0%|          | 0/2 [00:00<?, ?it/s]"
      ]
     },
     "metadata": {},
     "output_type": "display_data"
    },
    {
     "name": "stdout",
     "output_type": "stream",
     "text": [
      "Epoch 1/20 - Training Loss: 8.555103704566136e-06 Validation Loss: 2.501356840133667\n"
     ]
    },
    {
     "data": {
      "application/vnd.jupyter.widget-view+json": {
       "model_id": "a1d8dfbb14194bfc9eea24e0e2656188",
       "version_major": 2,
       "version_minor": 0
      },
      "text/plain": [
       "Training Batch:   0%|          | 0/46 [00:00<?, ?it/s]"
      ]
     },
     "metadata": {},
     "output_type": "display_data"
    },
    {
     "data": {
      "application/vnd.jupyter.widget-view+json": {
       "model_id": "63630e06140242a4a47deff33e885c08",
       "version_major": 2,
       "version_minor": 0
      },
      "text/plain": [
       "Validation Batch:   0%|          | 0/2 [00:00<?, ?it/s]"
      ]
     },
     "metadata": {},
     "output_type": "display_data"
    },
    {
     "name": "stdout",
     "output_type": "stream",
     "text": [
      "Epoch 2/20 - Training Loss: 6.811541197748738e-07 Validation Loss: 0.029696770012378693\n"
     ]
    },
    {
     "data": {
      "application/vnd.jupyter.widget-view+json": {
       "model_id": "84e4146f917440c896a18ac5af2d16e0",
       "version_major": 2,
       "version_minor": 0
      },
      "text/plain": [
       "Training Batch:   0%|          | 0/46 [00:00<?, ?it/s]"
      ]
     },
     "metadata": {},
     "output_type": "display_data"
    },
    {
     "data": {
      "application/vnd.jupyter.widget-view+json": {
       "model_id": "d9e41bd94e274187a0e5c6ff35c31dd4",
       "version_major": 2,
       "version_minor": 0
      },
      "text/plain": [
       "Validation Batch:   0%|          | 0/2 [00:00<?, ?it/s]"
      ]
     },
     "metadata": {},
     "output_type": "display_data"
    },
    {
     "name": "stdout",
     "output_type": "stream",
     "text": [
      "Epoch 3/20 - Training Loss: 2.6233871608383197e-07 Validation Loss: 0.004585746210068464\n"
     ]
    },
    {
     "data": {
      "application/vnd.jupyter.widget-view+json": {
       "model_id": "c837322ef49448b082559a4c0c581bf0",
       "version_major": 2,
       "version_minor": 0
      },
      "text/plain": [
       "Training Batch:   0%|          | 0/46 [00:00<?, ?it/s]"
      ]
     },
     "metadata": {},
     "output_type": "display_data"
    },
    {
     "data": {
      "application/vnd.jupyter.widget-view+json": {
       "model_id": "07ca892329604604bef59ea29e94b02a",
       "version_major": 2,
       "version_minor": 0
      },
      "text/plain": [
       "Validation Batch:   0%|          | 0/2 [00:00<?, ?it/s]"
      ]
     },
     "metadata": {},
     "output_type": "display_data"
    },
    {
     "name": "stdout",
     "output_type": "stream",
     "text": [
      "Epoch 4/20 - Training Loss: 1.979486938807895e-07 Validation Loss: 0.003959067165851593\n"
     ]
    },
    {
     "data": {
      "application/vnd.jupyter.widget-view+json": {
       "model_id": "1036cead2e5d4cde8dbea149f2412b69",
       "version_major": 2,
       "version_minor": 0
      },
      "text/plain": [
       "Training Batch:   0%|          | 0/46 [00:00<?, ?it/s]"
      ]
     },
     "metadata": {},
     "output_type": "display_data"
    },
    {
     "data": {
      "application/vnd.jupyter.widget-view+json": {
       "model_id": "923a9256771d42099279ea6ca8c3dd09",
       "version_major": 2,
       "version_minor": 0
      },
      "text/plain": [
       "Validation Batch:   0%|          | 0/2 [00:00<?, ?it/s]"
      ]
     },
     "metadata": {},
     "output_type": "display_data"
    },
    {
     "name": "stdout",
     "output_type": "stream",
     "text": [
      "Epoch 5/20 - Training Loss: 1.6076421616162406e-07 Validation Loss: 0.00301782856695354\n"
     ]
    },
    {
     "data": {
      "application/vnd.jupyter.widget-view+json": {
       "model_id": "922af7ec1e134b9994641fdc4a1c1ddf",
       "version_major": 2,
       "version_minor": 0
      },
      "text/plain": [
       "Training Batch:   0%|          | 0/46 [00:00<?, ?it/s]"
      ]
     },
     "metadata": {},
     "output_type": "display_data"
    },
    {
     "data": {
      "application/vnd.jupyter.widget-view+json": {
       "model_id": "3e91d7ff0d2543f597ff5fb2eb6b7570",
       "version_major": 2,
       "version_minor": 0
      },
      "text/plain": [
       "Validation Batch:   0%|          | 0/2 [00:00<?, ?it/s]"
      ]
     },
     "metadata": {},
     "output_type": "display_data"
    },
    {
     "name": "stdout",
     "output_type": "stream",
     "text": [
      "Epoch 6/20 - Training Loss: 1.5552109289274085e-07 Validation Loss: 0.002577531151473522\n"
     ]
    },
    {
     "data": {
      "application/vnd.jupyter.widget-view+json": {
       "model_id": "0875e2076f6b44cda49ab32c2e1ee3cd",
       "version_major": 2,
       "version_minor": 0
      },
      "text/plain": [
       "Training Batch:   0%|          | 0/46 [00:00<?, ?it/s]"
      ]
     },
     "metadata": {},
     "output_type": "display_data"
    },
    {
     "data": {
      "application/vnd.jupyter.widget-view+json": {
       "model_id": "3acf35f9e102470289b5c01addb243f4",
       "version_major": 2,
       "version_minor": 0
      },
      "text/plain": [
       "Validation Batch:   0%|          | 0/2 [00:00<?, ?it/s]"
      ]
     },
     "metadata": {},
     "output_type": "display_data"
    },
    {
     "name": "stdout",
     "output_type": "stream",
     "text": [
      "Epoch 7/20 - Training Loss: 1.0531236682709277e-07 Validation Loss: 0.0022594169713556767\n"
     ]
    },
    {
     "data": {
      "application/vnd.jupyter.widget-view+json": {
       "model_id": "9269a21a287046a4b6526108d8eb8b44",
       "version_major": 2,
       "version_minor": 0
      },
      "text/plain": [
       "Training Batch:   0%|          | 0/46 [00:00<?, ?it/s]"
      ]
     },
     "metadata": {},
     "output_type": "display_data"
    },
    {
     "data": {
      "application/vnd.jupyter.widget-view+json": {
       "model_id": "1490ccd7914a4d0a9ea258636d41f87b",
       "version_major": 2,
       "version_minor": 0
      },
      "text/plain": [
       "Validation Batch:   0%|          | 0/2 [00:00<?, ?it/s]"
      ]
     },
     "metadata": {},
     "output_type": "display_data"
    },
    {
     "name": "stdout",
     "output_type": "stream",
     "text": [
      "Epoch 8/20 - Training Loss: 9.773408038427078e-08 Validation Loss: 0.0019298263359814882\n"
     ]
    },
    {
     "data": {
      "application/vnd.jupyter.widget-view+json": {
       "model_id": "986c6f368ede4633b0bf4840d2691fd0",
       "version_major": 2,
       "version_minor": 0
      },
      "text/plain": [
       "Training Batch:   0%|          | 0/46 [00:00<?, ?it/s]"
      ]
     },
     "metadata": {},
     "output_type": "display_data"
    },
    {
     "data": {
      "application/vnd.jupyter.widget-view+json": {
       "model_id": "3711de88a7fb4569b3adc3cce24d1766",
       "version_major": 2,
       "version_minor": 0
      },
      "text/plain": [
       "Validation Batch:   0%|          | 0/2 [00:00<?, ?it/s]"
      ]
     },
     "metadata": {},
     "output_type": "display_data"
    },
    {
     "name": "stdout",
     "output_type": "stream",
     "text": [
      "Epoch 9/20 - Training Loss: 9.224579855526827e-08 Validation Loss: 0.001857564551755786\n"
     ]
    },
    {
     "data": {
      "application/vnd.jupyter.widget-view+json": {
       "model_id": "52b64c426562482f92f612509298de9f",
       "version_major": 2,
       "version_minor": 0
      },
      "text/plain": [
       "Training Batch:   0%|          | 0/46 [00:00<?, ?it/s]"
      ]
     },
     "metadata": {},
     "output_type": "display_data"
    },
    {
     "data": {
      "application/vnd.jupyter.widget-view+json": {
       "model_id": "e9ab865db4ce462e9a7532243d0d4f6d",
       "version_major": 2,
       "version_minor": 0
      },
      "text/plain": [
       "Validation Batch:   0%|          | 0/2 [00:00<?, ?it/s]"
      ]
     },
     "metadata": {},
     "output_type": "display_data"
    },
    {
     "name": "stdout",
     "output_type": "stream",
     "text": [
      "Epoch 10/20 - Training Loss: 8.068441559316852e-08 Validation Loss: 0.0016100031789392233\n"
     ]
    },
    {
     "data": {
      "application/vnd.jupyter.widget-view+json": {
       "model_id": "5a12381cb0db43cb9fe73402df28cace",
       "version_major": 2,
       "version_minor": 0
      },
      "text/plain": [
       "Training Batch:   0%|          | 0/46 [00:00<?, ?it/s]"
      ]
     },
     "metadata": {},
     "output_type": "display_data"
    },
    {
     "data": {
      "application/vnd.jupyter.widget-view+json": {
       "model_id": "9fc913c9a7ca4d838d4c7982c351f5d3",
       "version_major": 2,
       "version_minor": 0
      },
      "text/plain": [
       "Validation Batch:   0%|          | 0/2 [00:00<?, ?it/s]"
      ]
     },
     "metadata": {},
     "output_type": "display_data"
    },
    {
     "name": "stdout",
     "output_type": "stream",
     "text": [
      "Epoch 11/20 - Training Loss: 6.881861480678708e-08 Validation Loss: 0.0015005073510110378\n"
     ]
    },
    {
     "data": {
      "application/vnd.jupyter.widget-view+json": {
       "model_id": "09093bfc454e41a498d7d28827f2f4aa",
       "version_major": 2,
       "version_minor": 0
      },
      "text/plain": [
       "Training Batch:   0%|          | 0/46 [00:00<?, ?it/s]"
      ]
     },
     "metadata": {},
     "output_type": "display_data"
    },
    {
     "data": {
      "application/vnd.jupyter.widget-view+json": {
       "model_id": "e4e10ab7904c47c0a4b7b164fd285a20",
       "version_major": 2,
       "version_minor": 0
      },
      "text/plain": [
       "Validation Batch:   0%|          | 0/2 [00:00<?, ?it/s]"
      ]
     },
     "metadata": {},
     "output_type": "display_data"
    },
    {
     "name": "stdout",
     "output_type": "stream",
     "text": [
      "Epoch 12/20 - Training Loss: 5.6764193345770764e-08 Validation Loss: 0.0013739904388785362\n"
     ]
    },
    {
     "data": {
      "application/vnd.jupyter.widget-view+json": {
       "model_id": "50649e2993d4478383fbd78dd1a93734",
       "version_major": 2,
       "version_minor": 0
      },
      "text/plain": [
       "Training Batch:   0%|          | 0/46 [00:00<?, ?it/s]"
      ]
     },
     "metadata": {},
     "output_type": "display_data"
    },
    {
     "data": {
      "application/vnd.jupyter.widget-view+json": {
       "model_id": "8633651cdd474e4cb4bf68a74bfdb570",
       "version_major": 2,
       "version_minor": 0
      },
      "text/plain": [
       "Validation Batch:   0%|          | 0/2 [00:00<?, ?it/s]"
      ]
     },
     "metadata": {},
     "output_type": "display_data"
    },
    {
     "name": "stdout",
     "output_type": "stream",
     "text": [
      "Epoch 13/20 - Training Loss: 5.309970063649416e-08 Validation Loss: 0.0012953876284882426\n"
     ]
    },
    {
     "data": {
      "application/vnd.jupyter.widget-view+json": {
       "model_id": "36520da77d5b47eb820e56bf070b0abb",
       "version_major": 2,
       "version_minor": 0
      },
      "text/plain": [
       "Training Batch:   0%|          | 0/46 [00:00<?, ?it/s]"
      ]
     },
     "metadata": {},
     "output_type": "display_data"
    },
    {
     "data": {
      "application/vnd.jupyter.widget-view+json": {
       "model_id": "c01bc23894de40e6aa289b0ba715ac1f",
       "version_major": 2,
       "version_minor": 0
      },
      "text/plain": [
       "Validation Batch:   0%|          | 0/2 [00:00<?, ?it/s]"
      ]
     },
     "metadata": {},
     "output_type": "display_data"
    },
    {
     "name": "stdout",
     "output_type": "stream",
     "text": [
      "Epoch 14/20 - Training Loss: 4.6718458435179855e-08 Validation Loss: 0.001230720547027886\n"
     ]
    },
    {
     "data": {
      "application/vnd.jupyter.widget-view+json": {
       "model_id": "aa0a0703fe7446a08fa6e8e8e3eb2bf1",
       "version_major": 2,
       "version_minor": 0
      },
      "text/plain": [
       "Training Batch:   0%|          | 0/46 [00:00<?, ?it/s]"
      ]
     },
     "metadata": {},
     "output_type": "display_data"
    },
    {
     "data": {
      "application/vnd.jupyter.widget-view+json": {
       "model_id": "c7751dbdae5544cea05d9de5f6c2159b",
       "version_major": 2,
       "version_minor": 0
      },
      "text/plain": [
       "Validation Batch:   0%|          | 0/2 [00:00<?, ?it/s]"
      ]
     },
     "metadata": {},
     "output_type": "display_data"
    },
    {
     "name": "stdout",
     "output_type": "stream",
     "text": [
      "Epoch 15/20 - Training Loss: 2.875514049094363e-08 Validation Loss: 0.0011901912512257695\n"
     ]
    },
    {
     "data": {
      "application/vnd.jupyter.widget-view+json": {
       "model_id": "9695406a57c3420193e975fad59d7135",
       "version_major": 2,
       "version_minor": 0
      },
      "text/plain": [
       "Training Batch:   0%|          | 0/46 [00:00<?, ?it/s]"
      ]
     },
     "metadata": {},
     "output_type": "display_data"
    },
    {
     "data": {
      "application/vnd.jupyter.widget-view+json": {
       "model_id": "84c9b05e652a4c1084679b85f8b090e8",
       "version_major": 2,
       "version_minor": 0
      },
      "text/plain": [
       "Validation Batch:   0%|          | 0/2 [00:00<?, ?it/s]"
      ]
     },
     "metadata": {},
     "output_type": "display_data"
    },
    {
     "name": "stdout",
     "output_type": "stream",
     "text": [
      "Epoch 16/20 - Training Loss: 3.546091420503217e-08 Validation Loss: 0.001087017823010683\n"
     ]
    },
    {
     "data": {
      "application/vnd.jupyter.widget-view+json": {
       "model_id": "e416fbb6d2114776908b0b6620b38cbb",
       "version_major": 2,
       "version_minor": 0
      },
      "text/plain": [
       "Training Batch:   0%|          | 0/46 [00:00<?, ?it/s]"
      ]
     },
     "metadata": {},
     "output_type": "display_data"
    },
    {
     "data": {
      "application/vnd.jupyter.widget-view+json": {
       "model_id": "e4466e32b9e2424aa74f2d4e6685d743",
       "version_major": 2,
       "version_minor": 0
      },
      "text/plain": [
       "Validation Batch:   0%|          | 0/2 [00:00<?, ?it/s]"
      ]
     },
     "metadata": {},
     "output_type": "display_data"
    },
    {
     "name": "stdout",
     "output_type": "stream",
     "text": [
      "Epoch 17/20 - Training Loss: 2.3835033502450642e-08 Validation Loss: 0.0010387265356257558\n"
     ]
    },
    {
     "data": {
      "application/vnd.jupyter.widget-view+json": {
       "model_id": "11c87309fdf14415ae3385231d9d83c3",
       "version_major": 2,
       "version_minor": 0
      },
      "text/plain": [
       "Training Batch:   0%|          | 0/46 [00:00<?, ?it/s]"
      ]
     },
     "metadata": {},
     "output_type": "display_data"
    },
    {
     "data": {
      "application/vnd.jupyter.widget-view+json": {
       "model_id": "c919da0d31f246db8a3bab32af119aed",
       "version_major": 2,
       "version_minor": 0
      },
      "text/plain": [
       "Validation Batch:   0%|          | 0/2 [00:00<?, ?it/s]"
      ]
     },
     "metadata": {},
     "output_type": "display_data"
    },
    {
     "name": "stdout",
     "output_type": "stream",
     "text": [
      "Epoch 18/20 - Training Loss: 2.480740413091098e-08 Validation Loss: 0.001023867866024375\n"
     ]
    },
    {
     "data": {
      "application/vnd.jupyter.widget-view+json": {
       "model_id": "29e4f84435a0422bb9f3d2a871ca8c78",
       "version_major": 2,
       "version_minor": 0
      },
      "text/plain": [
       "Training Batch:   0%|          | 0/46 [00:00<?, ?it/s]"
      ]
     },
     "metadata": {},
     "output_type": "display_data"
    },
    {
     "data": {
      "application/vnd.jupyter.widget-view+json": {
       "model_id": "e898584541c14ff8b45839a30c59c6eb",
       "version_major": 2,
       "version_minor": 0
      },
      "text/plain": [
       "Validation Batch:   0%|          | 0/2 [00:00<?, ?it/s]"
      ]
     },
     "metadata": {},
     "output_type": "display_data"
    },
    {
     "name": "stdout",
     "output_type": "stream",
     "text": [
      "Epoch 19/20 - Training Loss: 2.6192223501197986e-08 Validation Loss: 0.0009828695328906178\n"
     ]
    },
    {
     "data": {
      "application/vnd.jupyter.widget-view+json": {
       "model_id": "fd3bbf121059422cbb10f21364d6f2c7",
       "version_major": 2,
       "version_minor": 0
      },
      "text/plain": [
       "Training Batch:   0%|          | 0/46 [00:00<?, ?it/s]"
      ]
     },
     "metadata": {},
     "output_type": "display_data"
    },
    {
     "data": {
      "application/vnd.jupyter.widget-view+json": {
       "model_id": "04b86999aa254f779f49a17abb67cf44",
       "version_major": 2,
       "version_minor": 0
      },
      "text/plain": [
       "Validation Batch:   0%|          | 0/2 [00:00<?, ?it/s]"
      ]
     },
     "metadata": {},
     "output_type": "display_data"
    },
    {
     "name": "stdout",
     "output_type": "stream",
     "text": [
      "Epoch 20/20 - Training Loss: 1.9508259896383606e-08 Validation Loss: 0.0009120902977883816\n"
     ]
    }
   ],
   "source": [
    "import dismech_nn\n",
    "import torch\n",
    "from torch.utils.data import DataLoader\n",
    "\n",
    "# Set your constants\n",
    "m = 2\n",
    "k = 1\n",
    "b = 0.5\n",
    "\n",
    "truth = dismech_nn.MSD(m, k, b)\n",
    "\n",
    "# Training initial conditions\n",
    "y0 = torch.tensor([[2.0, 0.0], [-4.0, 0.0], [1.0, 0.0]])\n",
    "\n",
    "\n",
    "\n",
    "ode_set = dismech_nn.ODEDataset(truth,\n",
    "                                y0,\n",
    "                                [0, 10],\n",
    "                                1000,\n",
    "                                20)\n",
    "\n",
    "\n",
    "# Validation initial conditions\n",
    "y0_valid = torch.tensor([[3.0, 0.0], [1.0, 0.0]])\n",
    "\n",
    "ode_valid_set = dismech_nn.ODEDataset(truth,\n",
    "                                        y0_valid,\n",
    "                                        [0, 20],\n",
    "                                        1000)\n",
    "\n",
    "\n",
    "train_dataloader = DataLoader(ode_set, batch_size=64, shuffle=True)\n",
    "valid_dataloader = DataLoader(ode_valid_set, batch_size=1, shuffle=True)\n",
    "\n",
    "# Use MLP which respects dx/dt = v\n",
    "my_mlp = dismech_nn.PhysicsMLP()\n",
    "dismech_nn.train_ode(my_mlp, train_dataloader, valid_dataloader, 20)"
   ]
  },
  {
   "cell_type": "markdown",
   "metadata": {},
   "source": [
    "## Extrapolation\n",
    "\n",
    "Using torchdiffeq, we will extrapolate the MLP to a new initial condition and graph its results and error."
   ]
  },
  {
   "cell_type": "code",
   "execution_count": 5,
   "metadata": {},
   "outputs": [],
   "source": [
    "import torchdiffeq\n",
    "\n",
    "t = torch.linspace(0, 20, 1000)\n",
    "sol = torchdiffeq.odeint_adjoint(my_mlp, torch.tensor([[-3., 0.]]), t).detach().permute([1,0,2])"
   ]
  },
  {
   "cell_type": "code",
   "execution_count": 6,
   "metadata": {},
   "outputs": [
    {
     "data": {
      "image/png": "[encoded data removed]",
      "text/plain": [
       "<Figure size 640x480 with 1 Axes>"
      ]
     },
     "metadata": {},
     "output_type": "display_data"
    }
   ],
   "source": [
    "import matplotlib.pyplot as plt\n",
    "\n",
    "plt.plot(t, sol[0])\n",
    "plt.title(\"Position and Velocity vs Time\")\n",
    "plt.xlabel('Time')\n",
    "plt.ylabel('Position and Velocity')\n",
    "plt.show()"
   ]
  },
  {
   "cell_type": "code",
   "execution_count": 7,
   "metadata": {},
   "outputs": [
    {
     "data": {
      "image/png": "[encoded data removed]",
      "text/plain": [
       "<Figure size 640x480 with 1 Axes>"
      ]
     },
     "metadata": {},
     "output_type": "display_data"
    }
   ],
   "source": [
    "truth_sol = torchdiffeq.odeint_adjoint(truth, torch.tensor([[-3., 0.]]), t).detach().permute([1,0,2])\n",
    "\n",
    "plt.plot(t, sol[0] - truth_sol[0], label={'x', 'v'})\n",
    "plt.title(\"Error vs Time\")\n",
    "plt.xlabel('Time')\n",
    "plt.ylabel('Error')\n",
    "plt.show()"
   ]
  }
 ],
 "metadata": {
  "kernelspec": {
   "display_name": ".venv",
   "language": "python",
   "name": "python3"
  },
  "language_info": {
   "codemirror_mode": {
    "name": "ipython",
    "version": 3
   },
   "file_extension": ".py",
   "mimetype": "text/x-python",
   "name": "python",
   "nbconvert_exporter": "python",
   "pygments_lexer": "ipython3",
   "version": "3.12.1"
  }
 },
 "nbformat": 4,
 "nbformat_minor": 2
}
