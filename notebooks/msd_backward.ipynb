{
 "cells": [
  {
   "cell_type": "markdown",
   "metadata": {},
   "source": [
    "## MSD Example\n",
    "\n",
    "Run the following code segments to train and validate a NeuralODE for a Mass Spring Damper system."
   ]
  },
  {
   "cell_type": "code",
   "execution_count": 1,
   "metadata": {},
   "outputs": [
    {
     "name": "stderr",
     "output_type": "stream",
     "text": [
      "C:\\Users\\12345\\Documents\\Dev\\dismech_nn\\dismech_nn\\train.py:1: TqdmExperimentalWarning: Using `tqdm.autonotebook.tqdm` in notebook mode. Use `tqdm.tqdm` instead to force console mode (e.g. in jupyter console)\n",
      "  from tqdm.autonotebook import tqdm\n"
     ]
    },
    {
     "data": {
      "application/vnd.jupyter.widget-view+json": {
       "model_id": "10c92a756f12409da9f159b3b6fd0aa8",
       "version_major": 2,
       "version_minor": 0
      },
      "text/plain": [
       "Epochs:   0%|          | 0/20 [00:00<?, ?it/s]"
      ]
     },
     "metadata": {},
     "output_type": "display_data"
    },
    {
     "data": {
      "application/vnd.jupyter.widget-view+json": {
       "model_id": "b8c09935285d4562a124fa92b4243586",
       "version_major": 2,
       "version_minor": 0
      },
      "text/plain": [
       "Training Batch:   0%|          | 0/46 [00:00<?, ?it/s]"
      ]
     },
     "metadata": {},
     "output_type": "display_data"
    },
    {
     "data": {
      "application/vnd.jupyter.widget-view+json": {
       "model_id": "6513649d5c2046099322bda5016382a9",
       "version_major": 2,
       "version_minor": 0
      },
      "text/plain": [
       "Validation Batch:   0%|          | 0/2 [00:00<?, ?it/s]"
      ]
     },
     "metadata": {},
     "output_type": "display_data"
    },
    {
     "name": "stdout",
     "output_type": "stream",
     "text": [
      "Epoch 1/20 - Training Loss: 2.4547910015826346e-06 Validation Loss: 0.07645436376333237\n"
     ]
    },
    {
     "data": {
      "application/vnd.jupyter.widget-view+json": {
       "model_id": "b6cc1b2744744e68a3d44ce7280d854c",
       "version_major": 2,
       "version_minor": 0
      },
      "text/plain": [
       "Training Batch:   0%|          | 0/46 [00:00<?, ?it/s]"
      ]
     },
     "metadata": {},
     "output_type": "display_data"
    },
    {
     "data": {
      "application/vnd.jupyter.widget-view+json": {
       "model_id": "510cdebe27eb4fddbae31f280f551dbf",
       "version_major": 2,
       "version_minor": 0
      },
      "text/plain": [
       "Validation Batch:   0%|          | 0/2 [00:00<?, ?it/s]"
      ]
     },
     "metadata": {},
     "output_type": "display_data"
    },
    {
     "name": "stdout",
     "output_type": "stream",
     "text": [
      "Epoch 2/20 - Training Loss: 2.54015077416625e-07 Validation Loss: 0.005808141082525253\n"
     ]
    },
    {
     "data": {
      "application/vnd.jupyter.widget-view+json": {
       "model_id": "b122f30f1ec44b65a028ebdbd2ade91c",
       "version_major": 2,
       "version_minor": 0
      },
      "text/plain": [
       "Training Batch:   0%|          | 0/46 [00:00<?, ?it/s]"
      ]
     },
     "metadata": {},
     "output_type": "display_data"
    },
    {
     "data": {
      "application/vnd.jupyter.widget-view+json": {
       "model_id": "a07c3f9446974e4db94681594d0c60a4",
       "version_major": 2,
       "version_minor": 0
      },
      "text/plain": [
       "Validation Batch:   0%|          | 0/2 [00:00<?, ?it/s]"
      ]
     },
     "metadata": {},
     "output_type": "display_data"
    },
    {
     "name": "stdout",
     "output_type": "stream",
     "text": [
      "Epoch 3/20 - Training Loss: 8.896157055460208e-08 Validation Loss: 0.0030825622379779816\n"
     ]
    },
    {
     "data": {
      "application/vnd.jupyter.widget-view+json": {
       "model_id": "cd6db4c05b77491f91452469d99420eb",
       "version_major": 2,
       "version_minor": 0
      },
      "text/plain": [
       "Training Batch:   0%|          | 0/46 [00:00<?, ?it/s]"
      ]
     },
     "metadata": {},
     "output_type": "display_data"
    },
    {
     "data": {
      "application/vnd.jupyter.widget-view+json": {
       "model_id": "1f73590daebb4b43af798d608036aed6",
       "version_major": 2,
       "version_minor": 0
      },
      "text/plain": [
       "Validation Batch:   0%|          | 0/2 [00:00<?, ?it/s]"
      ]
     },
     "metadata": {},
     "output_type": "display_data"
    },
    {
     "name": "stdout",
     "output_type": "stream",
     "text": [
      "Epoch 4/20 - Training Loss: 7.71140591382391e-08 Validation Loss: 0.002106741536408663\n"
     ]
    },
    {
     "data": {
      "application/vnd.jupyter.widget-view+json": {
       "model_id": "99d8dc295ce94abb8dac5ac70a78ee06",
       "version_major": 2,
       "version_minor": 0
      },
      "text/plain": [
       "Training Batch:   0%|          | 0/46 [00:00<?, ?it/s]"
      ]
     },
     "metadata": {},
     "output_type": "display_data"
    },
    {
     "data": {
      "application/vnd.jupyter.widget-view+json": {
       "model_id": "7fcaaf09e9614cfcbde2e6194eccc615",
       "version_major": 2,
       "version_minor": 0
      },
      "text/plain": [
       "Validation Batch:   0%|          | 0/2 [00:00<?, ?it/s]"
      ]
     },
     "metadata": {},
     "output_type": "display_data"
    },
    {
     "name": "stdout",
     "output_type": "stream",
     "text": [
      "Epoch 5/20 - Training Loss: 7.11297403199751e-08 Validation Loss: 0.0010506438557058573\n"
     ]
    },
    {
     "data": {
      "application/vnd.jupyter.widget-view+json": {
       "model_id": "ea25c0a42a6242158f294ff9b4b41583",
       "version_major": 2,
       "version_minor": 0
      },
      "text/plain": [
       "Training Batch:   0%|          | 0/46 [00:00<?, ?it/s]"
      ]
     },
     "metadata": {},
     "output_type": "display_data"
    },
    {
     "data": {
      "application/vnd.jupyter.widget-view+json": {
       "model_id": "6b2027826c684d1a8cd01bc1b866030d",
       "version_major": 2,
       "version_minor": 0
      },
      "text/plain": [
       "Validation Batch:   0%|          | 0/2 [00:00<?, ?it/s]"
      ]
     },
     "metadata": {},
     "output_type": "display_data"
    },
    {
     "name": "stdout",
     "output_type": "stream",
     "text": [
      "Epoch 6/20 - Training Loss: 3.128371517391315e-08 Validation Loss: 0.0007625017315149307\n"
     ]
    },
    {
     "data": {
      "application/vnd.jupyter.widget-view+json": {
       "model_id": "b08ad941204e432788226c399042916d",
       "version_major": 2,
       "version_minor": 0
      },
      "text/plain": [
       "Training Batch:   0%|          | 0/46 [00:00<?, ?it/s]"
      ]
     },
     "metadata": {},
     "output_type": "display_data"
    },
    {
     "data": {
      "application/vnd.jupyter.widget-view+json": {
       "model_id": "5ab14bc4f9844dfdb2ebb3a19c459016",
       "version_major": 2,
       "version_minor": 0
      },
      "text/plain": [
       "Validation Batch:   0%|          | 0/2 [00:00<?, ?it/s]"
      ]
     },
     "metadata": {},
     "output_type": "display_data"
    },
    {
     "name": "stdout",
     "output_type": "stream",
     "text": [
      "Epoch 7/20 - Training Loss: 1.4693215533156945e-08 Validation Loss: 0.00046689092414453626\n"
     ]
    },
    {
     "data": {
      "application/vnd.jupyter.widget-view+json": {
       "model_id": "cf24356db48f4575ab0f492ae5fc2ff8",
       "version_major": 2,
       "version_minor": 0
      },
      "text/plain": [
       "Training Batch:   0%|          | 0/46 [00:00<?, ?it/s]"
      ]
     },
     "metadata": {},
     "output_type": "display_data"
    },
    {
     "data": {
      "application/vnd.jupyter.widget-view+json": {
       "model_id": "9557e88859824047883cb295b8d7b811",
       "version_major": 2,
       "version_minor": 0
      },
      "text/plain": [
       "Validation Batch:   0%|          | 0/2 [00:00<?, ?it/s]"
      ]
     },
     "metadata": {},
     "output_type": "display_data"
    },
    {
     "name": "stdout",
     "output_type": "stream",
     "text": [
      "Epoch 8/20 - Training Loss: 1.0320578169853434e-08 Validation Loss: 0.0003314867790322751\n"
     ]
    },
    {
     "data": {
      "application/vnd.jupyter.widget-view+json": {
       "model_id": "cdfefedc7a444334aec39ce73cd6390b",
       "version_major": 2,
       "version_minor": 0
      },
      "text/plain": [
       "Training Batch:   0%|          | 0/46 [00:00<?, ?it/s]"
      ]
     },
     "metadata": {},
     "output_type": "display_data"
    },
    {
     "data": {
      "application/vnd.jupyter.widget-view+json": {
       "model_id": "068f8e8e83cf4dba9a7cdb3059201030",
       "version_major": 2,
       "version_minor": 0
      },
      "text/plain": [
       "Validation Batch:   0%|          | 0/2 [00:00<?, ?it/s]"
      ]
     },
     "metadata": {},
     "output_type": "display_data"
    },
    {
     "name": "stdout",
     "output_type": "stream",
     "text": [
      "Epoch 9/20 - Training Loss: 3.80387898957224e-09 Validation Loss: 0.0002940971462521702\n"
     ]
    },
    {
     "data": {
      "application/vnd.jupyter.widget-view+json": {
       "model_id": "f9dac3d91fc44346ab8f046703f47046",
       "version_major": 2,
       "version_minor": 0
      },
      "text/plain": [
       "Training Batch:   0%|          | 0/46 [00:00<?, ?it/s]"
      ]
     },
     "metadata": {},
     "output_type": "display_data"
    },
    {
     "data": {
      "application/vnd.jupyter.widget-view+json": {
       "model_id": "ce87fa660cc7428f946b3b2a793d7433",
       "version_major": 2,
       "version_minor": 0
      },
      "text/plain": [
       "Validation Batch:   0%|          | 0/2 [00:00<?, ?it/s]"
      ]
     },
     "metadata": {},
     "output_type": "display_data"
    },
    {
     "name": "stdout",
     "output_type": "stream",
     "text": [
      "Epoch 10/20 - Training Loss: 4.194687708292122e-09 Validation Loss: 0.0002828713331837207\n"
     ]
    },
    {
     "data": {
      "application/vnd.jupyter.widget-view+json": {
       "model_id": "e94027511dc5452f8486ea4f797b2bb9",
       "version_major": 2,
       "version_minor": 0
      },
      "text/plain": [
       "Training Batch:   0%|          | 0/46 [00:00<?, ?it/s]"
      ]
     },
     "metadata": {},
     "output_type": "display_data"
    },
    {
     "data": {
      "application/vnd.jupyter.widget-view+json": {
       "model_id": "e831ce1ccacc40669b83a235871629f9",
       "version_major": 2,
       "version_minor": 0
      },
      "text/plain": [
       "Validation Batch:   0%|          | 0/2 [00:00<?, ?it/s]"
      ]
     },
     "metadata": {},
     "output_type": "display_data"
    },
    {
     "name": "stdout",
     "output_type": "stream",
     "text": [
      "Epoch 11/20 - Training Loss: 3.6341796239014457e-09 Validation Loss: 0.00027519595460034907\n"
     ]
    },
    {
     "data": {
      "application/vnd.jupyter.widget-view+json": {
       "model_id": "5511b2ff2b034d868bc17202e2e78588",
       "version_major": 2,
       "version_minor": 0
      },
      "text/plain": [
       "Training Batch:   0%|          | 0/46 [00:00<?, ?it/s]"
      ]
     },
     "metadata": {},
     "output_type": "display_data"
    },
    {
     "data": {
      "application/vnd.jupyter.widget-view+json": {
       "model_id": "3f8ff5ce0eff4f92ac52fa740742c0b9",
       "version_major": 2,
       "version_minor": 0
      },
      "text/plain": [
       "Validation Batch:   0%|          | 0/2 [00:00<?, ?it/s]"
      ]
     },
     "metadata": {},
     "output_type": "display_data"
    },
    {
     "name": "stdout",
     "output_type": "stream",
     "text": [
      "Epoch 12/20 - Training Loss: 2.352990913223607e-09 Validation Loss: 0.0002740228665061295\n"
     ]
    },
    {
     "data": {
      "application/vnd.jupyter.widget-view+json": {
       "model_id": "5d005f41cd034ae9aeb8296b49978124",
       "version_major": 2,
       "version_minor": 0
      },
      "text/plain": [
       "Training Batch:   0%|          | 0/46 [00:00<?, ?it/s]"
      ]
     },
     "metadata": {},
     "output_type": "display_data"
    },
    {
     "data": {
      "application/vnd.jupyter.widget-view+json": {
       "model_id": "6e03565f96354bcba0e92e7942dca527",
       "version_major": 2,
       "version_minor": 0
      },
      "text/plain": [
       "Validation Batch:   0%|          | 0/2 [00:00<?, ?it/s]"
      ]
     },
     "metadata": {},
     "output_type": "display_data"
    },
    {
     "name": "stdout",
     "output_type": "stream",
     "text": [
      "Epoch 13/20 - Training Loss: 2.0687991320045285e-09 Validation Loss: 0.0002581662847660482\n"
     ]
    },
    {
     "data": {
      "application/vnd.jupyter.widget-view+json": {
       "model_id": "fe88e45a771849c98b877458974e4166",
       "version_major": 2,
       "version_minor": 0
      },
      "text/plain": [
       "Training Batch:   0%|          | 0/46 [00:00<?, ?it/s]"
      ]
     },
     "metadata": {},
     "output_type": "display_data"
    },
    {
     "data": {
      "application/vnd.jupyter.widget-view+json": {
       "model_id": "34e1714de69740c093e5ec9d8fd5ab4c",
       "version_major": 2,
       "version_minor": 0
      },
      "text/plain": [
       "Validation Batch:   0%|          | 0/2 [00:00<?, ?it/s]"
      ]
     },
     "metadata": {},
     "output_type": "display_data"
    },
    {
     "name": "stdout",
     "output_type": "stream",
     "text": [
      "Epoch 14/20 - Training Loss: 1.7537005181367249e-09 Validation Loss: 0.0002305867528775707\n"
     ]
    },
    {
     "data": {
      "application/vnd.jupyter.widget-view+json": {
       "model_id": "cfc6d64c24f9490e9714c17b5238147d",
       "version_major": 2,
       "version_minor": 0
      },
      "text/plain": [
       "Training Batch:   0%|          | 0/46 [00:00<?, ?it/s]"
      ]
     },
     "metadata": {},
     "output_type": "display_data"
    },
    {
     "data": {
      "application/vnd.jupyter.widget-view+json": {
       "model_id": "a5a6779dce634e398ab0fc2e3bd686ce",
       "version_major": 2,
       "version_minor": 0
      },
      "text/plain": [
       "Validation Batch:   0%|          | 0/2 [00:00<?, ?it/s]"
      ]
     },
     "metadata": {},
     "output_type": "display_data"
    },
    {
     "name": "stdout",
     "output_type": "stream",
     "text": [
      "Epoch 15/20 - Training Loss: 1.584545494814904e-09 Validation Loss: 0.00023142603458836675\n"
     ]
    },
    {
     "data": {
      "application/vnd.jupyter.widget-view+json": {
       "model_id": "e7d6350815eb49e0894ed72a2e31b9b2",
       "version_major": 2,
       "version_minor": 0
      },
      "text/plain": [
       "Training Batch:   0%|          | 0/46 [00:00<?, ?it/s]"
      ]
     },
     "metadata": {},
     "output_type": "display_data"
    },
    {
     "data": {
      "application/vnd.jupyter.widget-view+json": {
       "model_id": "51184c79c2d34069857eb30d9cb69f4a",
       "version_major": 2,
       "version_minor": 0
      },
      "text/plain": [
       "Validation Batch:   0%|          | 0/2 [00:00<?, ?it/s]"
      ]
     },
     "metadata": {},
     "output_type": "display_data"
    },
    {
     "name": "stdout",
     "output_type": "stream",
     "text": [
      "Epoch 16/20 - Training Loss: 2.4822446320627023e-09 Validation Loss: 0.0002247522643301636\n"
     ]
    },
    {
     "data": {
      "application/vnd.jupyter.widget-view+json": {
       "model_id": "b454faa6f277498182561d19424e9b88",
       "version_major": 2,
       "version_minor": 0
      },
      "text/plain": [
       "Training Batch:   0%|          | 0/46 [00:00<?, ?it/s]"
      ]
     },
     "metadata": {},
     "output_type": "display_data"
    },
    {
     "data": {
      "application/vnd.jupyter.widget-view+json": {
       "model_id": "f0d1ae051975455da584d72a803fd633",
       "version_major": 2,
       "version_minor": 0
      },
      "text/plain": [
       "Validation Batch:   0%|          | 0/2 [00:00<?, ?it/s]"
      ]
     },
     "metadata": {},
     "output_type": "display_data"
    },
    {
     "name": "stdout",
     "output_type": "stream",
     "text": [
      "Epoch 17/20 - Training Loss: 1.9122361472057037e-09 Validation Loss: 0.0002400863158982247\n"
     ]
    },
    {
     "data": {
      "application/vnd.jupyter.widget-view+json": {
       "model_id": "f288de331e64417c967a571e4531d4aa",
       "version_major": 2,
       "version_minor": 0
      },
      "text/plain": [
       "Training Batch:   0%|          | 0/46 [00:00<?, ?it/s]"
      ]
     },
     "metadata": {},
     "output_type": "display_data"
    },
    {
     "data": {
      "application/vnd.jupyter.widget-view+json": {
       "model_id": "ff68d02270d04e359a22adfe4184b283",
       "version_major": 2,
       "version_minor": 0
      },
      "text/plain": [
       "Validation Batch:   0%|          | 0/2 [00:00<?, ?it/s]"
      ]
     },
     "metadata": {},
     "output_type": "display_data"
    },
    {
     "name": "stdout",
     "output_type": "stream",
     "text": [
      "Epoch 18/20 - Training Loss: 1.1920008313737185e-09 Validation Loss: 0.00022149660799186677\n"
     ]
    },
    {
     "data": {
      "application/vnd.jupyter.widget-view+json": {
       "model_id": "338a9656581344338d131354d57769bd",
       "version_major": 2,
       "version_minor": 0
      },
      "text/plain": [
       "Training Batch:   0%|          | 0/46 [00:00<?, ?it/s]"
      ]
     },
     "metadata": {},
     "output_type": "display_data"
    },
    {
     "data": {
      "application/vnd.jupyter.widget-view+json": {
       "model_id": "2038e999d0ed495f8cc643c9e64e80cf",
       "version_major": 2,
       "version_minor": 0
      },
      "text/plain": [
       "Validation Batch:   0%|          | 0/2 [00:00<?, ?it/s]"
      ]
     },
     "metadata": {},
     "output_type": "display_data"
    },
    {
     "name": "stdout",
     "output_type": "stream",
     "text": [
      "Epoch 19/20 - Training Loss: 1.369901636572024e-09 Validation Loss: 0.00021714853937737644\n"
     ]
    },
    {
     "data": {
      "application/vnd.jupyter.widget-view+json": {
       "model_id": "30eff8e6f7e8499693d2672dc3474452",
       "version_major": 2,
       "version_minor": 0
      },
      "text/plain": [
       "Training Batch:   0%|          | 0/46 [00:00<?, ?it/s]"
      ]
     },
     "metadata": {},
     "output_type": "display_data"
    },
    {
     "data": {
      "application/vnd.jupyter.widget-view+json": {
       "model_id": "398c90f8e7624a7fbaa265e18ae13214",
       "version_major": 2,
       "version_minor": 0
      },
      "text/plain": [
       "Validation Batch:   0%|          | 0/2 [00:00<?, ?it/s]"
      ]
     },
     "metadata": {},
     "output_type": "display_data"
    },
    {
     "name": "stdout",
     "output_type": "stream",
     "text": [
      "Epoch 20/20 - Training Loss: 1.36387134919147e-09 Validation Loss: 0.00020327302627265453\n"
     ]
    }
   ],
   "source": [
    "import dismech_nn\n",
    "import torch\n",
    "from torch.utils.data import DataLoader\n",
    "\n",
    "# Set your constants\n",
    "m = 2\n",
    "k = 1\n",
    "b = 0.5\n",
    "\n",
    "truth = dismech_nn.MSD(m, k, b)\n",
    "\n",
    "# Training initial conditions\n",
    "y0 = torch.tensor([[2.0, 0.0], [-4.0, 0.0], [1.0, 0.0]])\n",
    "\n",
    "\n",
    "\n",
    "ode_set = dismech_nn.ODEDataset(truth,\n",
    "                                y0,\n",
    "                                [0, 10],\n",
    "                                1000,\n",
    "                                20)\n",
    "\n",
    "\n",
    "# Validation initial conditions\n",
    "y0_valid = torch.tensor([[3.0, 0.0], [1.0, 0.0]])\n",
    "\n",
    "ode_valid_set = dismech_nn.ODEDataset(truth,\n",
    "                                        y0_valid,\n",
    "                                        [0, 20],\n",
    "                                        1000)\n",
    "\n",
    "\n",
    "train_dataloader = DataLoader(ode_set, batch_size=64, shuffle=True)\n",
    "valid_dataloader = DataLoader(ode_valid_set, batch_size=1, shuffle=True)\n",
    "\n",
    "# Use MLP which respects dx/dt = v\n",
    "my_mlp = dismech_nn.PhysicsMLP()\n",
    "dismech_nn.train_ode(my_mlp, \n",
    "                     train_dataloader, \n",
    "                     valid_dataloader, \n",
    "                     20, method='backward_euler')"
   ]
  },
  {
   "cell_type": "markdown",
   "metadata": {},
   "source": [
    "## Extrapolation\n",
    "\n",
    "Using torchdiffeq, we will extrapolate the MLP to a new initial condition and graph its results and error."
   ]
  },
  {
   "cell_type": "code",
   "execution_count": 2,
   "metadata": {},
   "outputs": [],
   "source": [
    "import torchdiffeq\n",
    "\n",
    "t = torch.linspace(0, 20, 1000)\n",
    "sol = torchdiffeq.odeint_adjoint(my_mlp, torch.tensor([[-4., 0.]]), t, method='backward_euler').detach().permute([1,0,2])"
   ]
  },
  {
   "cell_type": "code",
   "execution_count": 3,
   "metadata": {},
   "outputs": [
    {
     "data": {
      "image/png": "[encoded data removed]",
      "text/plain": [
       "<Figure size 640x480 with 1 Axes>"
      ]
     },
     "metadata": {},
     "output_type": "display_data"
    }
   ],
   "source": [
    "import matplotlib.pyplot as plt\n",
    "\n",
    "plt.plot(t, sol[0])\n",
    "plt.title(\"Position and Velocity vs Time\")\n",
    "plt.xlabel('Time')\n",
    "plt.ylabel('Position and Velocity')\n",
    "plt.show()"
   ]
  },
  {
   "cell_type": "code",
   "execution_count": 4,
   "metadata": {},
   "outputs": [
    {
     "data": {
      "image/png": "[encoded data removed]",
      "text/plain": [
       "<Figure size 640x480 with 1 Axes>"
      ]
     },
     "metadata": {},
     "output_type": "display_data"
    }
   ],
   "source": [
    "truth_sol = torchdiffeq.odeint_adjoint(truth, torch.tensor([[-4., 0.]]), t, method='backward_euler').detach().permute([1,0,2])\n",
    "\n",
    "plt.plot(t, sol[0] - truth_sol[0], label={'x', 'v'})\n",
    "plt.title(\"Error vs Time\")\n",
    "plt.xlabel('Time')\n",
    "plt.ylabel('Error')\n",
    "plt.show()"
   ]
  }
 ],
 "metadata": {
  "kernelspec": {
   "display_name": ".venv",
   "language": "python",
   "name": "python3"
  },
  "language_info": {
   "codemirror_mode": {
    "name": "ipython",
    "version": 3
   },
   "file_extension": ".py",
   "mimetype": "text/x-python",
   "name": "python",
   "nbconvert_exporter": "python",
   "pygments_lexer": "ipython3",
   "version": "3.12.1"
  }
 },
 "nbformat": 4,
 "nbformat_minor": 2
}
